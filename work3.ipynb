{
  "nbformat": 4,
  "nbformat_minor": 0,
  "metadata": {
    "colab": {
      "provenance": [],
      "authorship_tag": "ABX9TyNr0r/9peiX4iLKSQi/tERZ",
      "include_colab_link": true
    },
    "kernelspec": {
      "name": "python3",
      "display_name": "Python 3"
    },
    "language_info": {
      "name": "python"
    }
  },
  "cells": [
    {
      "cell_type": "markdown",
      "metadata": {
        "id": "view-in-github",
        "colab_type": "text"
      },
      "source": [
        "<a href=\"https://colab.research.google.com/github/kai-2320181/Prog2kakushin/blob/main/work3.ipynb\" target=\"_parent\"><img src=\"https://colab.research.google.com/assets/colab-badge.svg\" alt=\"Open In Colab\"/></a>"
      ]
    },
    {
      "cell_type": "markdown",
      "source": [
        "第１４回課題提出用"
      ],
      "metadata": {
        "id": "bhn7-2UCFLgO"
      }
    },
    {
      "cell_type": "code",
      "source": [
        "!wget \"https://drive.google.com/uc?export=download&id=1hsUauww6HMD9YMejBh72as9x9wNCWeBc\" -O images.zip\n",
        "!unzip -o images.zip"
      ],
      "metadata": {
        "id": "QmK31yBOJ52B",
        "outputId": "f24ca602-9179-4a39-8b08-ebf5a37cae13",
        "colab": {
          "base_uri": "https://localhost:8080/"
        }
      },
      "execution_count": 1,
      "outputs": [
        {
          "output_type": "stream",
          "name": "stdout",
          "text": [
            "--2024-01-16 07:42:26--  https://drive.google.com/uc?export=download&id=1hsUauww6HMD9YMejBh72as9x9wNCWeBc\n",
            "Resolving drive.google.com (drive.google.com)... 172.217.0.78, 2607:f8b0:4025:815::200e\n",
            "Connecting to drive.google.com (drive.google.com)|172.217.0.78|:443... connected.\n",
            "HTTP request sent, awaiting response... 303 See Other\n",
            "Location: https://drive.usercontent.google.com/download?id=1hsUauww6HMD9YMejBh72as9x9wNCWeBc&export=download [following]\n",
            "--2024-01-16 07:42:26--  https://drive.usercontent.google.com/download?id=1hsUauww6HMD9YMejBh72as9x9wNCWeBc&export=download\n",
            "Resolving drive.usercontent.google.com (drive.usercontent.google.com)... 172.217.12.1, 2607:f8b0:4025:815::2001\n",
            "Connecting to drive.usercontent.google.com (drive.usercontent.google.com)|172.217.12.1|:443... connected.\n",
            "HTTP request sent, awaiting response... 200 OK\n",
            "Length: 391994 (383K) [application/octet-stream]\n",
            "Saving to: ‘images.zip’\n",
            "\n",
            "images.zip          100%[===================>] 382.81K  --.-KB/s    in 0.09s   \n",
            "\n",
            "2024-01-16 07:42:27 (4.30 MB/s) - ‘images.zip’ saved [391994/391994]\n",
            "\n",
            "Archive:  images.zip\n",
            " extracting: canal.jpg               \n",
            " extracting: desert.jpg              \n",
            " extracting: dog.jpg                 \n",
            " extracting: eagle.jpg               \n",
            " extracting: eagle_gray.jpg          \n",
            " extracting: flower.jpg              \n",
            " extracting: foods/green_pepper.jpg  \n",
            " extracting: foods/tomato/tomato01.jpg  \n",
            " extracting: foods/tomato/tomato02.jpg  \n",
            " extracting: fox.jpg                 \n",
            " extracting: ichidai.jpg             \n",
            " extracting: library.jpg             \n",
            " extracting: parrot.jpg              \n",
            " extracting: tools/driver.jpg        \n",
            " extracting: tools/nut.jpg           \n",
            " extracting: turtle.jpg              \n"
          ]
        }
      ]
    },
    {
      "cell_type": "code",
      "execution_count": 4,
      "metadata": {
        "id": "pd8rH35TB1n3"
      },
      "outputs": [],
      "source": [
        "import numpy as np\n",
        "import cv2, sys\n",
        "from google.colab.patches import cv2_imshow\n",
        "import glob\n",
        "\n",
        "file_list = glob.glob('[!output]*.jpg')\n",
        "\n",
        "for file in file_list:\n",
        "  img = cv2.imread( file )\n",
        "  if img is None:\n",
        "    print('Error: No such file or directory.')\n",
        "    continue\n",
        "\n",
        "  file2= cv2.resize(img, (100, 100) )\n",
        "  cv2.imwrite(f'output_{file}',file2)\n",
        "\n",
        "\n",
        "\n",
        "list_a=['output_canal.jpg','output_desert.jpg']\n",
        "list_b=['output_dog.jpg','output_eagle.jpg']\n",
        "\n",
        "\n",
        "\n",
        "  #img_new[y*100:y*100+100, x*100:x*100+100] = img_re\n",
        "  #x+=1\n",
        "  #if x==4:\n",
        "    #x=0\n",
        "    #y+=1\n",
        "    #if y==4:\n",
        "      #break"
      ]
    },
    {
      "cell_type": "code",
      "source": [
        "np.random.randint(1,2,10)"
      ],
      "metadata": {
        "id": "ARUNFSc07nks",
        "outputId": "fb83fd27-da96-4860-fc62-41ed93e724f6",
        "colab": {
          "base_uri": "https://localhost:8080/"
        }
      },
      "execution_count": 12,
      "outputs": [
        {
          "output_type": "execute_result",
          "data": {
            "text/plain": [
              "array([1, 1, 1, 1, 1, 1, 1, 1, 1, 1])"
            ]
          },
          "metadata": {},
          "execution_count": 12
        }
      ]
    }
  ]
}