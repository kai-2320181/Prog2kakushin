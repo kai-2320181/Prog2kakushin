{
  "nbformat": 4,
  "nbformat_minor": 0,
  "metadata": {
    "colab": {
      "provenance": [],
      "authorship_tag": "ABX9TyMOvzTXmRdlx3dpM2f7YqZx",
      "include_colab_link": true
    },
    "kernelspec": {
      "name": "python3",
      "display_name": "Python 3"
    },
    "language_info": {
      "name": "python"
    }
  },
  "cells": [
    {
      "cell_type": "markdown",
      "metadata": {
        "id": "view-in-github",
        "colab_type": "text"
      },
      "source": [
        "<a href=\"https://colab.research.google.com/github/kai-2320181/Prog2kakushin/blob/main/work1.ipynb\" target=\"_parent\"><img src=\"https://colab.research.google.com/assets/colab-badge.svg\" alt=\"Open In Colab\"/></a>"
      ]
    },
    {
      "cell_type": "markdown",
      "source": [
        "第１２回課題提出用"
      ],
      "metadata": {
        "id": "wAKc7R5zEdy2"
      }
    },
    {
      "cell_type": "code",
      "source": [
        "!wget 'https://drive.google.com/uc?export=download&id=1OZMgM9hUmFVml0XYGoOZzIO8Nj012wh6' -O hiroshima.csv"
      ],
      "metadata": {
        "colab": {
          "base_uri": "https://localhost:8080/"
        },
        "id": "JhLRfKHPX_hw",
        "outputId": "c066d7c2-b14b-4e8a-c3e2-3df1b1df17ab"
      },
      "execution_count": 60,
      "outputs": [
        {
          "output_type": "stream",
          "name": "stdout",
          "text": [
            "--2023-12-21 15:53:37--  https://drive.google.com/uc?export=download&id=1OZMgM9hUmFVml0XYGoOZzIO8Nj012wh6\n",
            "Resolving drive.google.com (drive.google.com)... 142.250.128.100, 142.250.128.138, 142.250.128.101, ...\n",
            "Connecting to drive.google.com (drive.google.com)|142.250.128.100|:443... connected.\n",
            "HTTP request sent, awaiting response... 303 See Other\n",
            "Location: https://doc-0k-7g-docs.googleusercontent.com/docs/securesc/ha0ro937gcuc7l7deffksulhg5h7mbp1/puvlf8ba617bok51o2sf260m1r199pn5/1703173950000/00342891211114503229/*/1OZMgM9hUmFVml0XYGoOZzIO8Nj012wh6?e=download&uuid=3a1b9fb7-b411-4562-abc5-4e65ba38f662 [following]\n",
            "Warning: wildcards not supported in HTTP.\n",
            "--2023-12-21 15:53:38--  https://doc-0k-7g-docs.googleusercontent.com/docs/securesc/ha0ro937gcuc7l7deffksulhg5h7mbp1/puvlf8ba617bok51o2sf260m1r199pn5/1703173950000/00342891211114503229/*/1OZMgM9hUmFVml0XYGoOZzIO8Nj012wh6?e=download&uuid=3a1b9fb7-b411-4562-abc5-4e65ba38f662\n",
            "Resolving doc-0k-7g-docs.googleusercontent.com (doc-0k-7g-docs.googleusercontent.com)... 142.251.120.132, 2607:f8b0:4001:c2e::84\n",
            "Connecting to doc-0k-7g-docs.googleusercontent.com (doc-0k-7g-docs.googleusercontent.com)|142.251.120.132|:443... connected.\n",
            "HTTP request sent, awaiting response... 200 OK\n",
            "Length: 8573 (8.4K) [text/csv]\n",
            "Saving to: ‘hiroshima.csv’\n",
            "\n",
            "hiroshima.csv       100%[===================>]   8.37K  --.-KB/s    in 0s      \n",
            "\n",
            "2023-12-21 15:53:38 (104 MB/s) - ‘hiroshima.csv’ saved [8573/8573]\n",
            "\n"
          ]
        }
      ]
    },
    {
      "cell_type": "code",
      "source": [
        "import pandas as pd\n",
        "from matplotlib import pyplot as plt\n",
        "\n",
        "df = pd.read_csv('hiroshima.csv')\n",
        "\n",
        "while True:\n",
        "  txt=input('市町村:')\n",
        "  if txt=='':\n",
        "    print('入力されていません. 再入力してください.')\n",
        "    continue\n",
        "  elif txt not in df.iloc[0]:\n",
        "    print('存在しない市町村名です. 再入力してください.')\n",
        "    continue\n",
        "  else:\n",
        "    break\n",
        "\n",
        "dif=int(df[txt].diff().max())\n",
        "dif_idx=df[txt].diff().idxmax()\n",
        "year=df.iloc[dif_idx][0]\n",
        "print(txt,'について前年度からの変化量が最も大きいのは',year,'で',dif,'人です')\n"
      ],
      "metadata": {
        "colab": {
          "base_uri": "https://localhost:8080/"
        },
        "id": "GeOwSULFYWs4",
        "outputId": "fe0d59de-1dda-4463-b026-07e665e342ba"
      },
      "execution_count": 94,
      "outputs": [
        {
          "output_type": "stream",
          "name": "stdout",
          "text": [
            "市町村:東広島市\n",
            "東広島市 について前年度からの変化量が最も大きいのは 1991年 で 6171 人です\n"
          ]
        }
      ]
    }
  ]
}